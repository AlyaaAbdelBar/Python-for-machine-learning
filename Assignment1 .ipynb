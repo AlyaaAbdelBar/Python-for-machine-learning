{
 "cells": [
  {
   "cell_type": "markdown",
   "id": "b62de2bb",
   "metadata": {},
   "source": [
    "# Task1 \n",
    "Create a variable named x, and assign it a value of 20."
   ]
  },
  {
   "cell_type": "code",
   "execution_count": null,
   "id": "919cbd1b",
   "metadata": {},
   "outputs": [],
   "source": [
    " x=20"
   ]
  },
  {
   "cell_type": "markdown",
   "id": "b29f5dda",
   "metadata": {},
   "source": [
    "# Task2\n",
    "Create two variables named x and y, and assign them with values 10 and 20 respectively."
   ]
  },
  {
   "cell_type": "code",
   "execution_count": 1,
   "id": "43ada676",
   "metadata": {},
   "outputs": [],
   "source": [
    "x=10\n",
    "y=20"
   ]
  },
  {
   "cell_type": "markdown",
   "id": "62c0df0d",
   "metadata": {},
   "source": [
    "# Task3 \n",
    "Create a variable named x which is assigned a value of 'apple'. Print the variable x to standard output."
   ]
  },
  {
   "cell_type": "code",
   "execution_count": 2,
   "id": "07d23a3b",
   "metadata": {},
   "outputs": [
    {
     "name": "stdout",
     "output_type": "stream",
     "text": [
      "apple\n"
     ]
    }
   ],
   "source": [
    "x=\"apple\"\n",
    "print(x)"
   ]
  },
  {
   "cell_type": "markdown",
   "id": "ab1228d6",
   "metadata": {},
   "source": [
    "# Task4\n",
    "Assign variable x with 10, and variable y with 20. Find their sum and assign the result to a variable z. Then print the variable z."
   ]
  },
  {
   "cell_type": "code",
   "execution_count": 3,
   "id": "f3733960",
   "metadata": {},
   "outputs": [
    {
     "name": "stdout",
     "output_type": "stream",
     "text": [
      "30\n"
     ]
    }
   ],
   "source": [
    "x=10\n",
    "y=20\n",
    "z=x+y\n",
    "print(z)"
   ]
  },
  {
   "cell_type": "markdown",
   "id": "4f3972af",
   "metadata": {},
   "source": [
    "# Task5\n",
    "Initialize all the three variables x, y, and z with the same value of 'apple' in a single statement."
   ]
  },
  {
   "cell_type": "code",
   "execution_count": 44,
   "id": "ee040b87",
   "metadata": {},
   "outputs": [
    {
     "name": "stdout",
     "output_type": "stream",
     "text": [
      "apple\n",
      "apple\n",
      "apple\n"
     ]
    }
   ],
   "source": [
    "x=y=z= \"apple\"\n",
    "print(x)\n",
    "print(y)\n",
    "print(z)\n"
   ]
  },
  {
   "cell_type": "markdown",
   "id": "c37809e9",
   "metadata": {},
   "source": [
    "# Task6\n",
    "What is the built-in function that returns the type of the given value or variable (x or y or z)."
   ]
  },
  {
   "cell_type": "code",
   "execution_count": 7,
   "id": "2f4b820a",
   "metadata": {},
   "outputs": [
    {
     "data": {
      "text/plain": [
       "str"
      ]
     },
     "execution_count": 7,
     "metadata": {},
     "output_type": "execute_result"
    }
   ],
   "source": [
    "#this is type of Task 5\n",
    "type(x)\n",
    "type(y)\n",
    "type(z)"
   ]
  },
  {
   "cell_type": "markdown",
   "id": "b5a37587",
   "metadata": {},
   "source": [
    "# Task7\n",
    "Which built-in function is used to read input from user?"
   ]
  },
  {
   "cell_type": "code",
   "execution_count": null,
   "id": "98badfbb",
   "metadata": {},
   "outputs": [],
   "source": [
    "input(\"Enter your input: \")"
   ]
  },
  {
   "cell_type": "markdown",
   "id": "bf399396",
   "metadata": {},
   "source": [
    "# Task8\n",
    "Reverse a given string \n",
    "str1 = \"Amit Learning\""
   ]
  },
  {
   "cell_type": "code",
   "execution_count": 10,
   "id": "887d91bf",
   "metadata": {},
   "outputs": [
    {
     "data": {
      "text/plain": [
       "'gninraeL timA'"
      ]
     },
     "execution_count": 10,
     "metadata": {},
     "output_type": "execute_result"
    }
   ],
   "source": [
    "str1 = \"Amit Learning\"\n",
    "str1[-1: :-1]"
   ]
  },
  {
   "cell_type": "code",
   "execution_count": null,
   "id": "e3008b5d",
   "metadata": {},
   "outputs": [],
   "source": []
  },
  {
   "cell_type": "markdown",
   "id": "5e42437a",
   "metadata": {},
   "source": [
    "# Task9\n",
    "split a given string\n",
    "str2 = \"Dema-is-a-data-scientist\"\n",
    "\n",
    "output >> ['Dema', 'is', 'a', 'data', 'scientist']"
   ]
  },
  {
   "cell_type": "code",
   "execution_count": 15,
   "id": "08f0b533",
   "metadata": {},
   "outputs": [
    {
     "data": {
      "text/plain": [
       "['Dema', 'is', 'a', 'data', 'scientist']"
      ]
     },
     "execution_count": 15,
     "metadata": {},
     "output_type": "execute_result"
    }
   ],
   "source": [
    "str2=\"Dema-is-a-data-scientist\"\n",
    "str2.split('-')"
   ]
  },
  {
   "cell_type": "markdown",
   "id": "82363726",
   "metadata": {},
   "source": [
    "# Task10\n",
    "Join this list['Dema', 'is', 'a', 'data', 'scientist'] \n",
    "\n",
    "output >> 'Dema is a data scientist'"
   ]
  },
  {
   "cell_type": "code",
   "execution_count": 16,
   "id": "e4026949",
   "metadata": {},
   "outputs": [
    {
     "data": {
      "text/plain": [
       "'Dema is a data scientist'"
      ]
     },
     "execution_count": 16,
     "metadata": {},
     "output_type": "execute_result"
    }
   ],
   "source": [
    "str2=\"Dema-is-a-data-scientist\"\n",
    "y=str2.split('-')\n",
    "\" \".join(y)"
   ]
  },
  {
   "cell_type": "markdown",
   "id": "ac5c1dd8",
   "metadata": {},
   "source": [
    "# Task11\n",
    "Get the characters:\n",
    "\n",
    "From: \"o\" in \"World!\" \n",
    "\n",
    "To, but not included: \"d\" in \"World!\"\n",
    "\n",
    "str1 = \"Hello, World!\""
   ]
  },
  {
   "cell_type": "code",
   "execution_count": 38,
   "id": "acab7e4d",
   "metadata": {},
   "outputs": [
    {
     "name": "stdout",
     "output_type": "stream",
     "text": [
      "Hello, Worl !\n"
     ]
    },
    {
     "data": {
      "text/plain": [
       "'o'"
      ]
     },
     "execution_count": 38,
     "metadata": {},
     "output_type": "execute_result"
    }
   ],
   "source": [
    "str1=\"Hello, World!\"\n",
    "#str1.split()\n",
    "y=str1.split('d')\n",
    "x=\" \".join(y)\n",
    "print(x)\n",
    "str1[-5]"
   ]
  },
  {
   "cell_type": "markdown",
   "id": "b5763b76",
   "metadata": {},
   "source": [
    "# Task12\n",
    "Check if \"free\" is present in the following text:\n",
    "\n",
    "txt = \"The best things in life are free!\""
   ]
  },
  {
   "cell_type": "code",
   "execution_count": 39,
   "id": "d0ba085c",
   "metadata": {},
   "outputs": [
    {
     "name": "stdout",
     "output_type": "stream",
     "text": [
      "Yes,Founded\n"
     ]
    }
   ],
   "source": [
    "txt= \"The best things in life are free!\"\n",
    "ch='free'\n",
    "\n",
    "if ch in txt:\n",
    "    print (\"Yes,Founded\")\n",
    "else: print (\"No, can't Founded\")\n",
    "    "
   ]
  },
  {
   "cell_type": "markdown",
   "id": "d0b26e9b",
   "metadata": {},
   "source": [
    "# Task13\n",
    "removes any whitespace from the beginning or the end\n",
    "\n",
    "s = \" Hello, World! \""
   ]
  },
  {
   "cell_type": "code",
   "execution_count": 41,
   "id": "88e85a9a",
   "metadata": {},
   "outputs": [
    {
     "name": "stdout",
     "output_type": "stream",
     "text": [
      "Hello,World!\n"
     ]
    }
   ],
   "source": [
    "s=\"Hello, World! \"\n",
    "s_new=s.replace(\" \",\"\")\n",
    "print(s_new)"
   ]
  },
  {
   "cell_type": "markdown",
   "id": "832668db",
   "metadata": {},
   "source": [
    "# Task14\n",
    "Replace the character H with J.\n",
    "\n",
    "\n",
    "txt = \"Hello World\""
   ]
  },
  {
   "cell_type": "code",
   "execution_count": 43,
   "id": "50252148",
   "metadata": {},
   "outputs": [
    {
     "name": "stdout",
     "output_type": "stream",
     "text": [
      "Jello World\n"
     ]
    }
   ],
   "source": [
    "txt=\"Hello World\"\n",
    "txt_v=txt.replace('H','J')\n",
    "print(txt_v)"
   ]
  },
  {
   "cell_type": "code",
   "execution_count": null,
   "id": "6575472b",
   "metadata": {},
   "outputs": [],
   "source": []
  }
 ],
 "metadata": {
  "kernelspec": {
   "display_name": "Python 3 (ipykernel)",
   "language": "python",
   "name": "python3"
  },
  "language_info": {
   "codemirror_mode": {
    "name": "ipython",
    "version": 3
   },
   "file_extension": ".py",
   "mimetype": "text/x-python",
   "name": "python",
   "nbconvert_exporter": "python",
   "pygments_lexer": "ipython3",
   "version": "3.11.7"
  }
 },
 "nbformat": 4,
 "nbformat_minor": 5
}
