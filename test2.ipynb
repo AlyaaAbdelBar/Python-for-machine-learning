{
 "cells": [
  {
   "cell_type": "markdown",
   "metadata": {
    "id": "9NXyYtIAQuIG"
   },
   "source": [
    "# Python program to interchange first and last elements in a list\n"
   ]
  },
  {
   "cell_type": "markdown",
   "metadata": {
    "id": "Y8j1uUT8Q6Xf"
   },
   "source": [
    "- Examples\n",
    "\n",
    "- Input : [12, 35, 9, 56, 24]\n",
    "- Output : [24, 35, 9, 56, 12]\n",
    "\n",
    "- Input : [1, 2, 3]\n",
    "- Output : [3, 2, 1]"
   ]
  },
  {
   "cell_type": "code",
   "execution_count": 6,
   "metadata": {},
   "outputs": [
    {
     "name": "stdout",
     "output_type": "stream",
     "text": [
      "[24, 56, 9, 35, 12]\n"
     ]
    }
   ],
   "source": [
    "inpt_list = [12,35,9,56,24]\n",
    "\n",
    "for i in inpt_list:\n",
    "    inpt_list= inpt_list[::-1]\n",
    "print(inpt_list)\n"
   ]
  },
  {
   "cell_type": "markdown",
   "metadata": {
    "id": "h-yd-gv7RnYW"
   },
   "source": [
    "### Find the Length of a List in Python\n",
    "\n"
   ]
  },
  {
   "cell_type": "markdown",
   "metadata": {
    "id": "AapkQMkGRqqg"
   },
   "source": [
    "- Input: lst = [10,20,30,40]\n",
    "- Output: 4\n",
    "- Explanation: The output is 4 because thelength of the list is  4."
   ]
  },
  {
   "cell_type": "code",
   "execution_count": 2,
   "metadata": {},
   "outputs": [
    {
     "name": "stdout",
     "output_type": "stream",
     "text": [
      "Output: 4\n"
     ]
    }
   ],
   "source": [
    "lst = [10,20,30,40]\n",
    "print(\"Output:\",len(lst))"
   ]
  },
  {
   "cell_type": "markdown",
   "metadata": {
    "id": "Y-XZTe1ES7pJ"
   },
   "source": [
    "### Python | Find elements of a list by indices\n",
    "- Input : lst1 = [10, 20, 30, 40, 50]\n",
    "-        lst2 = [0, 2, 4]\n",
    "- Output : [10, 30, 50]"
   ]
  },
  {
   "cell_type": "code",
   "execution_count": 12,
   "metadata": {},
   "outputs": [
    {
     "name": "stdout",
     "output_type": "stream",
     "text": [
      "[10, 30, 50]\n"
     ]
    }
   ],
   "source": [
    "lst1=[10,20,30,40,50]\n",
    "lst2=[0,2,4]\n",
    "print(lst1[0:5:2])"
   ]
  },
  {
   "cell_type": "markdown",
   "metadata": {
    "id": "3fmiplSXTmN-"
   },
   "source": [
    "# Python program to find the String in a List\n"
   ]
  },
  {
   "cell_type": "markdown",
   "metadata": {
    "id": "0HdTN1z3TpYH"
   },
   "source": [
    "- Input: l=[1, 1.0, 'have', 'a', 'geeky', 'day']; s='geeky'\n",
    "- Output: True\n",
    "- Explanation: geeky is present in the input list"
   ]
  },
  {
   "cell_type": "code",
   "execution_count": 16,
   "metadata": {},
   "outputs": [
    {
     "name": "stdout",
     "output_type": "stream",
     "text": [
      "geeky is present in the list\n"
     ]
    }
   ],
   "source": [
    "l1=[1, 1.0, 'have', 'a', 'geeky', 'day']\n",
    "s='geeky'\n",
    "if s in l1:\n",
    "    print(f'{s} is present in the list')\n",
    "else:\n",
    "    print(f'{s} is not present in the list')"
   ]
  },
  {
   "cell_type": "markdown",
   "metadata": {
    "id": "PID_7zUJT-HU"
   },
   "source": [
    "\n",
    "\n",
    "```\n",
    "#  hint you can use in\n",
    "```\n",
    "\n",
    "- The in keyword is used to check if a value is present in a sequence (list, range, string etc.).\n",
    "\n"
   ]
  },
  {
   "cell_type": "code",
   "execution_count": 19,
   "metadata": {
    "id": "folb7eDqUXwk"
   },
   "outputs": [
    {
     "name": "stdout",
     "output_type": "stream",
     "text": [
      "cherry is present in the list\n"
     ]
    }
   ],
   "source": [
    "fruits = [\"apple\", \"banana\", \"cherry\"]\n",
    "c='cherry'\n",
    "if c in fruits:\n",
    "    print(f'{c} is present in the list')\n",
    "else:\n",
    "    print(f'{c} is not present in the list')"
   ]
  },
  {
   "cell_type": "markdown",
   "metadata": {
    "id": "WI5-sy7eU9Gm"
   },
   "source": [
    "## Ways to find indices of value in list\n",
    "\n",
    "\n",
    "- list of animals\n",
    "- Animals= [\"cat\", \"dog\", \"tiger\"]\n",
    "- searching positiion of dog\n",
    "- output is 1"
   ]
  },
  {
   "cell_type": "code",
   "execution_count": 89,
   "metadata": {},
   "outputs": [
    {
     "data": {
      "text/plain": [
       "1"
      ]
     },
     "execution_count": 89,
     "metadata": {},
     "output_type": "execute_result"
    }
   ],
   "source": [
    "animals= [\"cat\", \"dog\", \"tiger\"]\n",
    "animals.index('dog')"
   ]
  },
  {
   "cell_type": "markdown",
   "metadata": {
    "id": "-WY6GZpgVjs-"
   },
   "source": [
    "### Find most frequent element in a list\n",
    "- Input : [2, 1, 2, 2, 1, 3]\n",
    "- Output : 2\n",
    "\n",
    "- Input : ['Dog', 'Cat', 'Dog']\n",
    "- Output : Dog"
   ]
  },
  {
   "cell_type": "code",
   "execution_count": 93,
   "metadata": {},
   "outputs": [
    {
     "name": "stdout",
     "output_type": "stream",
     "text": [
      "2\n",
      "Dog\n"
     ]
    }
   ],
   "source": [
    "lst1= [2, 1, 2, 2, 1, 3]\n",
    "lst2= ['Dog', 'Cat', 'Dog']\n",
    "def most_frequent(lst1):\n",
    "    return max(set(lst1), key = lst1.count)\n",
    " \n",
    "lst1= [2, 1, 2, 2, 1, 3]\n",
    "print(most_frequent(lst1))\n",
    "###############################\n",
    "def most_frequent(lst2):\n",
    "    return max(set(lst2), key = lst2.count)\n",
    " \n",
    "lst2= ['Dog', 'Cat', 'Dog']\n",
    "print(most_frequent(lst2))\n"
   ]
  },
  {
   "cell_type": "markdown",
   "metadata": {
    "id": "iplk5uDKfiye"
   },
   "source": [
    "- hint you can use max in python"
   ]
  },
  {
   "cell_type": "markdown",
   "metadata": {
    "id": "-vF6f8UQZIgq"
   },
   "source": [
    "## Remove an Item from the List in Python.\n",
    "- Input: ['Rose',' Lily', 'Lotus', 'Sun', 'Sunflower']\n",
    "- Delete: 'Sun'\n",
    "- Output: ['Rose',' Lily', 'Lotus', 'Sunflower']\n",
    "- Explanation: In this, we have removed the 'Sun' element from the given list"
   ]
  },
  {
   "cell_type": "code",
   "execution_count": 15,
   "metadata": {},
   "outputs": [
    {
     "name": "stdout",
     "output_type": "stream",
     "text": [
      "After deleting the item : ['Rose', ' Lily', 'Lotus', 'Sunflower']\n"
     ]
    }
   ],
   "source": [
    "lst = ['Rose',' Lily', 'Lotus', 'Sun', 'Sunflower']\n",
    "lst.remove('Sun')\n",
    "print(\"After deleting the item :\", lst)"
   ]
  },
  {
   "cell_type": "markdown",
   "metadata": {
    "id": "l_YTnBftZe7V"
   },
   "source": [
    "# Remove multiple elements from a list in Python\n",
    "- Input: [12, 15, 3, 10]\n",
    "- Output: Remove = [12, 3], New_List = [15, 10]\n",
    "\n",
    "- Input: [11, 5, 17, 18, 23, 50]\n",
    "- Output: Remove = [1:5], New_list = [11, 50]"
   ]
  },
  {
   "cell_type": "code",
   "execution_count": 14,
   "metadata": {},
   "outputs": [
    {
     "name": "stdout",
     "output_type": "stream",
     "text": [
      "[15, 10]\n"
     ]
    }
   ],
   "source": [
    "lst1 = [12, 15, 3, 10]\n",
    "del lst1[0:1]\n",
    "del lst1[1:2]\n",
    "print(lst1)"
   ]
  },
  {
   "cell_type": "code",
   "execution_count": 82,
   "metadata": {},
   "outputs": [
    {
     "name": "stdout",
     "output_type": "stream",
     "text": [
      "[11, 50]\n"
     ]
    }
   ],
   "source": [
    "lst2 = [11, 5, 17, 18, 23, 50]\n",
    "del lst2[1:5]\n",
    "print(lst2)"
   ]
  },
  {
   "cell_type": "markdown",
   "metadata": {
    "id": "yYoINEUvcG4-"
   },
   "source": [
    "# python program to check whether the string is Palindrome  and get the str from user"
   ]
  },
  {
   "cell_type": "markdown",
   "metadata": {
    "id": "ARhC7ZL6cvjO"
   },
   "source": [
    "- Input : malayalam\n",
    "- Output : True\n",
    "\n",
    "- Input : geeks\n",
    "- Output : False"
   ]
  },
  {
   "cell_type": "code",
   "execution_count": 76,
   "metadata": {},
   "outputs": [
    {
     "name": "stdout",
     "output_type": "stream",
     "text": [
      "Yes\n"
     ]
    }
   ],
   "source": [
    "txt1 = 'malayalam'\n",
    "def isPalindrome(s):\n",
    "    s = s.lower()\n",
    "    l = len(s)\n",
    "    if l < 2:\n",
    "        return True\n",
    "    elif s[0] == s[l - 1]:\n",
    "         return isPalindrome(s[1: l - 1])\n",
    "    else:\n",
    "        return False\n",
    " \n",
    "txt1 = 'malayalam'\n",
    "ans = isPalindrome(txt1)\n",
    "if ans:\n",
    "    print(\"Yes\")\n",
    "else:\n",
    "    print(\"No\")"
   ]
  },
  {
   "cell_type": "code",
   "execution_count": 78,
   "metadata": {},
   "outputs": [
    {
     "name": "stdout",
     "output_type": "stream",
     "text": [
      "No\n"
     ]
    }
   ],
   "source": [
    "txt2 = 'geeks'\n",
    "def isPalindrome(s):\n",
    "    s = s.lower()\n",
    "    l = len(s)\n",
    "    if l < 2:\n",
    "        return True\n",
    "    elif s[0] == s[l - 1]:\n",
    "         return isPalindrome(s[1: l - 1])\n",
    "    else:\n",
    "        return False\n",
    " \n",
    "txt2 = 'geeks'\n",
    "ans = isPalindrome(txt2)\n",
    "if ans:\n",
    "    print(\"Yes\")\n",
    "else:\n",
    "    print(\"No\")"
   ]
  },
  {
   "cell_type": "markdown",
   "metadata": {
    "id": "_EYlmszadOww"
   },
   "source": [
    "### Reverse Words in a Given String in Python\n",
    "- Input : str =\" geeks quiz practice code\"\n",
    "- Output : str = code practice quiz geeks  \n",
    "- Input : str = \"my name is laxmi\"\n",
    "- output : str= laxmi is name my"
   ]
  },
  {
   "cell_type": "code",
   "execution_count": 10,
   "metadata": {},
   "outputs": [
    {
     "name": "stdout",
     "output_type": "stream",
     "text": [
      "code practice quiz geeks\n"
     ]
    }
   ],
   "source": [
    "inpt_txt1 = \"geeks quiz practice code\"\n",
    "s = inpt_txt1.split()[::-1]\n",
    "l = []\n",
    "for i in s:\n",
    "    l.append(i)\n",
    "print(\" \".join(l))\n",
    "###########\n"
   ]
  },
  {
   "cell_type": "code",
   "execution_count": 9,
   "metadata": {},
   "outputs": [
    {
     "name": "stdout",
     "output_type": "stream",
     "text": [
      "laxmi is name my\n"
     ]
    }
   ],
   "source": [
    "str = \"my name is laxmi\"\n",
    "stack = []\n",
    "for word in str.split():\n",
    "    stack.append(word)\n",
    "reversed_words = []\n",
    "while stack:\n",
    "    reversed_words.append(stack.pop())\n",
    "reversed_string = \" \".join(reversed_words)\n",
    "print(reversed_string)"
   ]
  },
  {
   "cell_type": "markdown",
   "metadata": {
    "id": "242TCJPleCof"
   },
   "source": [
    "### Find length of a string in python\n",
    "- Input : 'abc'\n",
    "- Output : 3\n",
    "\n",
    "- Input : 'hello world !'\n",
    "- Output : 13\n",
    "\n",
    "- Input : ' h e l   l  o '\n",
    "- Output :14"
   ]
  },
  {
   "cell_type": "code",
   "execution_count": 63,
   "metadata": {},
   "outputs": [
    {
     "data": {
      "text/plain": [
       "3"
      ]
     },
     "execution_count": 63,
     "metadata": {},
     "output_type": "execute_result"
    }
   ],
   "source": [
    "txt = 'abc'\n",
    "len(txt)"
   ]
  },
  {
   "cell_type": "code",
   "execution_count": 64,
   "metadata": {},
   "outputs": [
    {
     "data": {
      "text/plain": [
       "13"
      ]
     },
     "execution_count": 64,
     "metadata": {},
     "output_type": "execute_result"
    }
   ],
   "source": [
    "txt = 'hello world !'\n",
    "len(txt)"
   ]
  },
  {
   "cell_type": "code",
   "execution_count": 65,
   "metadata": {},
   "outputs": [
    {
     "data": {
      "text/plain": [
       "14"
      ]
     },
     "execution_count": 65,
     "metadata": {},
     "output_type": "execute_result"
    }
   ],
   "source": [
    "txt = '   h e l l o  '\n",
    "len(txt)"
   ]
  },
  {
   "cell_type": "markdown",
   "metadata": {
    "id": "rE_STqG_fFJs"
   },
   "source": [
    "###  Avoid Spaces in string length\n",
    "\n",
    "\n",
    "```\n",
    "- string = \"Hello, world!  \"\n",
    "- with space 15\n",
    "- without space is 12\n",
    "```\n",
    "\n",
    "\n"
   ]
  },
  {
   "cell_type": "code",
   "execution_count": 8,
   "metadata": {},
   "outputs": [
    {
     "name": "stdout",
     "output_type": "stream",
     "text": [
      "15\n",
      "13\n"
     ]
    }
   ],
   "source": [
    "txt = \"Hello, world!  \"\n",
    "print(len(txt))\n",
    "x=txt.strip()\n",
    "print(len(x))"
   ]
  },
  {
   "cell_type": "markdown",
   "metadata": {
    "id": "zRnIlNqSf3ni"
   },
   "source": [
    "-  hint you can use len in python to get len of str or list"
   ]
  },
  {
   "cell_type": "markdown",
   "metadata": {
    "id": "FebQFluegBW2"
   },
   "source": [
    "# Smallest Length String in the list\n",
    "- test_list = ['gfg', 'is', 'best', 'for', 'geeks']\n",
    "- Minimum length string is : is\n"
   ]
  },
  {
   "cell_type": "code",
   "execution_count": 49,
   "metadata": {},
   "outputs": [
    {
     "name": "stdout",
     "output_type": "stream",
     "text": [
      "Length of minimum string is : 2\n",
      "is\n"
     ]
    }
   ],
   "source": [
    "test_list = ['gfg', 'is', 'best', 'for', 'geeks']\n",
    "\n",
    "############################################\n",
    "min_ch= min(len(i) for i in test_list)\n",
    "print(\"Length of minimum string is : \" + str(min_ch) )\n",
    "##################################################\n",
    "test_list = ['gfg', 'is', 'best', 'for', 'geeks']\n",
    "print(min(test_list, key=len))"
   ]
  },
  {
   "cell_type": "markdown",
   "metadata": {
    "id": "Nn_2JLRJgZ3h"
   },
   "source": [
    "-  hint you can use min in python"
   ]
  }
 ],
 "metadata": {
  "colab": {
   "private_outputs": true,
   "provenance": []
  },
  "kernelspec": {
   "display_name": "Python 3 (ipykernel)",
   "language": "python",
   "name": "python3"
  },
  "language_info": {
   "codemirror_mode": {
    "name": "ipython",
    "version": 3
   },
   "file_extension": ".py",
   "mimetype": "text/x-python",
   "name": "python",
   "nbconvert_exporter": "python",
   "pygments_lexer": "ipython3",
   "version": "3.11.7"
  }
 },
 "nbformat": 4,
 "nbformat_minor": 4
}
