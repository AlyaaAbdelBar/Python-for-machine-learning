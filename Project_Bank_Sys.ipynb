{
 "cells": [
  {
   "cell_type": "code",
   "execution_count": 1,
   "id": "141f800e-b8b9-483a-8693-d95cff5444f3",
   "metadata": {},
   "outputs": [],
   "source": [
    "class Bank:\n",
    "    def __init__(self):\n",
    "        self.customers={}\n",
    "\n",
    "    def create_account(self,account_number,initial_balance=0):\n",
    "        if account_number in self.customers:\n",
    "            print(\"Account number is already exists\")\n",
    "        else:\n",
    "            self.customers[account_number]= initial_balance\n",
    "            print(\"Account created successfully with balance\")\n",
    "\n",
    "    def deposit(self,account_number,amount):\n",
    "        if account_number in self.customers:\n",
    "            self.customers[account_number] += amount\n",
    "            print(\"Successful Deposit\")\n",
    "        else:\n",
    "            print(\"Account number does no exist\")\n",
    "    def withdrawal(self,account_number,amount):\n",
    "        if account_number in self.customers:\n",
    "            if self.customers[account_number] >=amount:\n",
    "                self.customers[account_number] -= amount\n",
    "                print(\"Withdrawal successful\")\n",
    "            else:\n",
    "                print(\"Insufficient funds\")\n",
    "        else:\n",
    "            print(\"Account number does not exist\")\n",
    "\n",
    "    def check_balance(self,account_number):\n",
    "        if account_number in self.customers:\n",
    "            balance= self.customers[account_number]\n",
    "            print(f\"Account balance:{balance}\")\n",
    "        else:\n",
    "            print(\"Account number does not exist\")\n",
    "            "
   ]
  },
  {
   "cell_type": "code",
   "execution_count": 2,
   "id": "b42c7312-7566-482f-b8c3-cafb80f88734",
   "metadata": {},
   "outputs": [
    {
     "name": "stdout",
     "output_type": "stream",
     "text": [
      "New acount number: AC-26 Deposit Amount: 1000\n",
      "Account created successfully with balance\n",
      "New acount number: SZ-15 Deposit Amount: 2000000\n",
      "Account created successfully with balance\n"
     ]
    }
   ],
   "source": [
    "bank=Bank()\n",
    "acnum1=\"AC-26\"\n",
    "d_amount1=1000\n",
    "print(\"New acount number:\",acnum1,\"Deposit Amount:\",d_amount1)\n",
    "bank.create_account(acnum1,d_amount1)\n",
    "\n",
    "acnum2=\"SZ-15\"\n",
    "d_amount2=2000000\n",
    "print(\"New acount number:\",acnum2,\"Deposit Amount:\",d_amount2)\n",
    "bank.create_account(acnum2,d_amount2)\n",
    "\n"
   ]
  },
  {
   "cell_type": "code",
   "execution_count": 3,
   "id": "e6036baf-507e-484c-964b-95c5aef59162",
   "metadata": {},
   "outputs": [
    {
     "name": "stdout",
     "output_type": "stream",
     "text": [
      "Deposit 400 to Account num. AC-26\n",
      "Successful Deposit\n"
     ]
    }
   ],
   "source": [
    "d=400\n",
    "print(\"Deposit\",d,\"to Account num.\",acnum1)\n",
    "bank.deposit(acnum1,d)"
   ]
  },
  {
   "cell_type": "code",
   "execution_count": 5,
   "id": "5471656c-5978-44e8-803d-a752b846fb92",
   "metadata": {},
   "outputs": [
    {
     "name": "stdout",
     "output_type": "stream",
     "text": [
      "Withdraw 1600 From account num: SZ-15\n",
      "Withdrawal successful\n"
     ]
    }
   ],
   "source": [
    "w=1600\n",
    "print(\"Withdraw\", w, \"From account num:\",acnum2)\n",
    "bank.withdrawal(acnum2,w)"
   ]
  },
  {
   "cell_type": "code",
   "execution_count": 7,
   "id": "dcf14909-be0d-4b5e-9809-288e149a998f",
   "metadata": {},
   "outputs": [
    {
     "name": "stdout",
     "output_type": "stream",
     "text": [
      "Account num SZ-15\n",
      "Account balance:1998400\n"
     ]
    }
   ],
   "source": [
    "print(\"Account num\",acnum2)\n",
    "bank.check_balance(acnum2)"
   ]
  },
  {
   "cell_type": "code",
   "execution_count": 8,
   "id": "f6a45d4c-92fe-49f0-b1a7-0b8ea9dc440d",
   "metadata": {},
   "outputs": [
    {
     "name": "stdout",
     "output_type": "stream",
     "text": [
      "Account num AC-26\n",
      "Account balance:1400\n"
     ]
    }
   ],
   "source": [
    "print(\"Account num\",acnum1)\n",
    "bank.check_balance(acnum1)"
   ]
  },
  {
   "cell_type": "code",
   "execution_count": 9,
   "id": "3aa3db5e-4037-4d1d-a90a-22c944518f0c",
   "metadata": {},
   "outputs": [
    {
     "name": "stdout",
     "output_type": "stream",
     "text": [
      "Account num SN-15\n",
      "Account number does not exist\n"
     ]
    }
   ],
   "source": [
    "acnum3=\"SN-15\"\n",
    "print(\"Account num\",acnum3)\n",
    "bank.check_balance(acnum3)"
   ]
  },
  {
   "cell_type": "code",
   "execution_count": null,
   "id": "7310e6d8-768a-4f4e-ac4b-4d1fe99e73f6",
   "metadata": {},
   "outputs": [],
   "source": []
  }
 ],
 "metadata": {
  "kernelspec": {
   "display_name": "Python 3 (ipykernel)",
   "language": "python",
   "name": "python3"
  },
  "language_info": {
   "codemirror_mode": {
    "name": "ipython",
    "version": 3
   },
   "file_extension": ".py",
   "mimetype": "text/x-python",
   "name": "python",
   "nbconvert_exporter": "python",
   "pygments_lexer": "ipython3",
   "version": "3.11.7"
  }
 },
 "nbformat": 4,
 "nbformat_minor": 5
}
