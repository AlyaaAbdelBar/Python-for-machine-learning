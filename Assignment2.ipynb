{
 "cells": [
  {
   "cell_type": "markdown",
   "id": "3c7a8819",
   "metadata": {},
   "source": [
    "# Task1\n",
    "Write a Python program to add an item to a tuple."
   ]
  },
  {
   "cell_type": "code",
   "execution_count": 1,
   "id": "7bf26def",
   "metadata": {},
   "outputs": [
    {
     "name": "stdout",
     "output_type": "stream",
     "text": [
      "Original Tuple (4, 6, 1, 2, 3)\n",
      "(4, 6, 1, 2, 3, 9, 10, 5, 4, 6, 1, 2, 3, 9)\n",
      "(4, 6, 1, 2, 3, 9, 10, 5)\n"
     ]
    }
   ],
   "source": [
    "tuple_x=(4,6,1,2,3)\n",
    "print(\"Original Tuple\", tuple_x)\n",
    "##Adding an element at the end of tuple\n",
    "tuple_x = tuple_x + (9,)\n",
    "##Adding items at a specific index in the tuple; insrt (10, 5) between the dirst six elements and duplicates the original six elements \n",
    "tuple_x= tuple_x[:6] +(10,5)+tuple_x[:6]\n",
    "print(tuple_x)\n",
    "tuple_x= tuple_x[:6] +(10,5)\n",
    "print(tuple_x)"
   ]
  },
  {
   "cell_type": "markdown",
   "id": "a2932652",
   "metadata": {},
   "source": [
    "# Task2\n",
    "Write a Python program to sum all the items in a list."
   ]
  },
  {
   "cell_type": "code",
   "execution_count": 8,
   "id": "17cc806d",
   "metadata": {},
   "outputs": [
    {
     "name": "stdout",
     "output_type": "stream",
     "text": [
      "11\n"
     ]
    }
   ],
   "source": [
    "def summ_list(items):\n",
    "    sum_num=0\n",
    "    for x in items:\n",
    "        sum_num += x\n",
    "    return sum_num\n",
    "print(summ_list([1,2,3,0,5]))"
   ]
  },
  {
   "cell_type": "markdown",
   "id": "9439fccd",
   "metadata": {},
   "source": [
    "# Task3\n",
    "Write a Python program to multiply all the items in a list."
   ]
  },
  {
   "cell_type": "code",
   "execution_count": 9,
   "id": "7bd57bb5",
   "metadata": {},
   "outputs": [
    {
     "name": "stdout",
     "output_type": "stream",
     "text": [
      "6\n"
     ]
    }
   ],
   "source": [
    "def mul_list(items):\n",
    "    mul_num=1\n",
    "    for x in items:\n",
    "        mul_num = mul_num * x\n",
    "    return mul_num\n",
    "print(mul_list([1,2,3]))"
   ]
  },
  {
   "cell_type": "markdown",
   "id": "1fef85c3",
   "metadata": {},
   "source": [
    "# Task4\n",
    "Write a Python program to get the smallest number from a list."
   ]
  },
  {
   "cell_type": "code",
   "execution_count": 11,
   "id": "c77b606c",
   "metadata": {},
   "outputs": [
    {
     "name": "stdin",
     "output_type": "stream",
     "text": [
      "List 1,2,3,6,5,0\n"
     ]
    },
    {
     "name": "stdout",
     "output_type": "stream",
     "text": [
      "The list is  [1, 2, 3, 6, 5, 0]\n",
      "The smallest element in the list is  0\n"
     ]
    }
   ],
   "source": [
    "lst=[int(lst) for lst in input (\"List\").split(\",\")]\n",
    "print(\"The list is \", lst)\n",
    "\n",
    "min=lst[0]\n",
    "for i in range(len(lst)):\n",
    "    if lst[i]< min :\n",
    "        min= lst[i]\n",
    "print(\"The smallest element in the list is \" , min)"
   ]
  },
  {
   "cell_type": "markdown",
   "id": "0d287243",
   "metadata": {},
   "source": [
    "# Task5\n",
    "Write a Python program to get the largest number from a list."
   ]
  },
  {
   "cell_type": "code",
   "execution_count": 14,
   "id": "29bf3a84",
   "metadata": {},
   "outputs": [
    {
     "name": "stdin",
     "output_type": "stream",
     "text": [
      "List 1,200,400,500\n"
     ]
    },
    {
     "name": "stdout",
     "output_type": "stream",
     "text": [
      "The list is  [1, 200, 400, 500]\n",
      "The largest element in the list is  500\n"
     ]
    }
   ],
   "source": [
    "lst=[int(lst) for lst in input (\"List\").split(\",\")]\n",
    "print(\"The list is \", lst)\n",
    "max=lst[0]\n",
    "for i in range(len(lst)):\n",
    "    if lst[i] > max :\n",
    "        max= lst[i]\n",
    "print(\"The largest element in the list is \" , max)"
   ]
  },
  {
   "cell_type": "markdown",
   "id": "b2350932",
   "metadata": {},
   "source": [
    "# Task6 \n",
    "Write a Python program to count the number of strings from a given list of \n",
    "strings."
   ]
  },
  {
   "cell_type": "code",
   "execution_count": 3,
   "id": "e73356bd",
   "metadata": {},
   "outputs": [
    {
     "name": "stdout",
     "output_type": "stream",
     "text": [
      "The length of Egypt is 5\n",
      "The length of UK is 2\n",
      "The length of Genmany is 7\n",
      "The length of UAE is 3\n",
      "The length of Qatar is 5\n",
      "The length of Italy is 5\n"
     ]
    }
   ],
   "source": [
    "test_list=['Egypt', 'UK','Genmany', 'UAE','Qatar','Italy']\n",
    "#subs='Egypt'\n",
    "\n",
    "def len_word(L):\n",
    "    for word in L:\n",
    "        print(f\"The length of {word} is {len(word)}\")\n",
    "len_word(test_list)"
   ]
  },
  {
   "cell_type": "markdown",
   "id": "1eacc78b",
   "metadata": {},
   "source": [
    "# Task7\n",
    "Write a Python program to clone or copy a list"
   ]
  },
  {
   "cell_type": "code",
   "execution_count": 29,
   "id": "63bbc455",
   "metadata": {},
   "outputs": [
    {
     "name": "stdout",
     "output_type": "stream",
     "text": [
      "[1, 3, 5, 7, 9]\n",
      "[1, 3, 5, 7, 9]\n"
     ]
    }
   ],
   "source": [
    "org_lst=[1,3,5,7,9]\n",
    "n_lst=list(org_lst)\n",
    "print (n_lst)\n",
    "print(org_lst)"
   ]
  },
  {
   "cell_type": "markdown",
   "id": "449d71c4",
   "metadata": {},
   "source": [
    "# Task8\n",
    "Write a Python program to remove item(s) from a given set.\n",
    "\n",
    "s = set([0, 1, 3, 4, 5])"
   ]
  },
  {
   "cell_type": "code",
   "execution_count": 5,
   "id": "2593788e",
   "metadata": {},
   "outputs": [
    {
     "name": "stdout",
     "output_type": "stream",
     "text": [
      "{0, 1, 3, 4, 5}\n",
      "{1, 3, 4, 5}\n",
      "{3, 4, 5}\n"
     ]
    }
   ],
   "source": [
    "s=set([0,1,3,4,5])\n",
    "print(s)\n",
    "s.pop()\n",
    "print(s)\n",
    "s.pop()\n",
    "print(s)"
   ]
  },
  {
   "cell_type": "markdown",
   "id": "f90c349e",
   "metadata": {},
   "source": [
    "# Task9\n",
    "Write a Python program to find the maximum and minimum values in a set."
   ]
  },
  {
   "cell_type": "code",
   "execution_count": 7,
   "id": "6f6e62b0",
   "metadata": {},
   "outputs": [
    {
     "name": "stdout",
     "output_type": "stream",
     "text": [
      "My original set=  (1, 5, 7, 13, 20, 40, 20, 10)\n",
      "Max value on list is 40\n",
      "Min value on list is 1\n"
     ]
    }
   ],
   "source": [
    "set_test=(1,5,7,13,20,40,20,10)\n",
    "print(\"My original set= \", set_test)\n",
    "print(\"Max value on list is\", max(set_test))\n",
    "print(\"Min value on list is\", min(set_test))"
   ]
  },
  {
   "cell_type": "markdown",
   "id": "a151e82a",
   "metadata": {},
   "source": [
    "# Task10\n",
    "Write a Python program to convert a tuple to a dictionary."
   ]
  },
  {
   "cell_type": "code",
   "execution_count": 8,
   "id": "1c606999",
   "metadata": {},
   "outputs": [
    {
     "name": "stdout",
     "output_type": "stream",
     "text": [
      "Dictionry constructed from tuples:{'A': 1, 'B': 2, 'D': 3, 'Z': 4}\n"
     ]
    }
   ],
   "source": [
    "t_tup1=('A','B','D','Z')\n",
    "t_tup2=(1,2,3,4)\n",
    "if len(t_tup1) == len(t_tup2):\n",
    "    my_dict=dict(map(lambda x,y: (x,y) , t_tup1,t_tup2))\n",
    "\n",
    "print(\"Dictionry constructed from tuples:\" + str(my_dict))"
   ]
  },
  {
   "cell_type": "markdown",
   "id": "c8132b1b",
   "metadata": {},
   "source": [
    "# Task11\n",
    "Write a Python program to reverse a tuple."
   ]
  },
  {
   "cell_type": "code",
   "execution_count": 16,
   "id": "49a882d8",
   "metadata": {},
   "outputs": [
    {
     "name": "stdout",
     "output_type": "stream",
     "text": [
      "Reversed tuple:('$', '@', 'j', 'x', 'w', 'z')\n"
     ]
    }
   ],
   "source": [
    "\n",
    "def rev_tup(tup):\n",
    "    new_tup= tup[::-1]\n",
    "    return f\"Reversed tuple:{new_tup}\"\n",
    "    \n",
    "tup=('z','w','x','j','@','$')\n",
    "print(rev_tup(tup))"
   ]
  },
  {
   "cell_type": "markdown",
   "id": "6c062c85",
   "metadata": {},
   "source": [
    "# Task12\n",
    "Write a Python program to convert a list of tuples into a dictionary"
   ]
  },
  {
   "cell_type": "code",
   "execution_count": 25,
   "id": "c3b21d48",
   "metadata": {},
   "outputs": [
    {
     "name": "stdout",
     "output_type": "stream",
     "text": [
      "{'x': 1, 'g': 2, 'anf': 4, 'zx': 9}\n"
     ]
    }
   ],
   "source": [
    "\n",
    "lst_of_tup=[('x',1),('g',2),('anf',4),('zx',9)]\n",
    "dictionary= {}\n",
    "\n",
    "for key , val in lst_of_tup:\n",
    "    dictionary.setdefault(key,val)\n",
    "print(dictionary)"
   ]
  },
  {
   "cell_type": "markdown",
   "id": "2133456d",
   "metadata": {},
   "source": [
    "# Task13\n",
    "Write a Python program to replace the last value of tuples in a list.\n",
    "\n",
    "Sample list: [(10, 20, 40), (40, 50, 60), (70, 80, 90)]\n",
    "\n",
    "Expected Output: [(10, 20, 100), (40, 50, 100), (70, 80, 100)]\n"
   ]
  },
  {
   "cell_type": "code",
   "execution_count": 28,
   "id": "de535d71",
   "metadata": {},
   "outputs": [
    {
     "name": "stdout",
     "output_type": "stream",
     "text": [
      "[(10, 20, 100), (40, 50, 100), (70, 80, 100)]\n"
     ]
    }
   ],
   "source": [
    "lst=[(10, 20, 40), (40, 50, 60), (70, 80, 90)]\n",
    "\n",
    "print([t[:-1]+(100,) for t in lst])"
   ]
  },
  {
   "cell_type": "markdown",
   "id": "076336bc",
   "metadata": {},
   "source": [
    "# Task14\n",
    "Remove the illegal characters in the variable name:\n",
    "\n",
    "var_name = \"%%6student_name$^$%#\"\n",
    "\n",
    "illegal_chars = \"0123456789!@#$%^&*()-+=[]{}|\\\\;:'\\\",.<>/?~\"\n",
    "\n",
    "output is \"student_name\""
   ]
  },
  {
   "cell_type": "code",
   "execution_count": 109,
   "id": "c377b33b",
   "metadata": {},
   "outputs": [
    {
     "name": "stdout",
     "output_type": "stream",
     "text": [
      "student_name\n",
      "student_name"
     ]
    }
   ],
   "source": [
    "var_name = \"%%6student_name^%#\"\n",
    "illegal_chars = \"0123456789!@#$%^&*()-+=[]{}|\\;:',.<>/?~\"\n",
    "\n",
    "\n",
    "c_name=''.join(i for i in var_name if i not in illegal_chars)\n",
    "print(c_name)\n",
    "##or\n",
    "\n",
    "for i in var_name:\n",
    "    if i not in illegal_chars:\n",
    "        print(i,end=\"\")"
   ]
  },
  {
   "cell_type": "code",
   "execution_count": 76,
   "id": "154c30be-f8cd-4276-97ed-4730c460eb89",
   "metadata": {},
   "outputs": [
    {
     "name": "stdout",
     "output_type": "stream",
     "text": [
      "%%6student_name^%\n",
      "student_name\n"
     ]
    }
   ],
   "source": [
    "var_name = \"%%6student_name^%#\"\n",
    "\n",
    "\n",
    "#print(var_name.translate({ord('%'):None} and {ord('6'):None} and {ord('^'):None} and {ord('#'):None}))\n",
    "x=var_name.translate({ord('%'):None})\n",
    "y=x.translate({ord('6'):None})\n",
    "z=y.translate({ord('^'):None})\n",
    "print(z.translate({ord('#'):None}))\n",
    "\n",
    "\n"
   ]
  },
  {
   "cell_type": "markdown",
   "id": "46bd77d7",
   "metadata": {},
   "source": [
    "# Task15\n",
    "Write a Python program to print the even and odd numbers in a series of numbers\n",
    "\n",
    "Sample numbers : numbers = (1, 2, 3, 4, 5, 6, 7, 8, 9) \n",
    "    \n",
    "Expected Output :\n",
    "    \n",
    "Number of even numbers : 2,4,6,8\n",
    "    \n",
    "Number of odd numbers : 1,3,5,7,9"
   ]
  },
  {
   "cell_type": "code",
   "execution_count": 106,
   "id": "924d0873",
   "metadata": {},
   "outputs": [
    {
     "name": "stdout",
     "output_type": "stream",
     "text": [
      "Number of even numbers:  2,4,6,8\n",
      "Number of odd numbers : 1,3,5,7,9\n"
     ]
    }
   ],
   "source": [
    "numbers = (1, 2, 3, 4, 5, 6, 7, 8, 9)\n",
    "\n",
    "even_numbers = [num for num in numbers if num % 2 == 0]\n",
    "odd_numbers = [num for num in numbers if num % 2 != 0]\n",
    "\n",
    "print(\"Number of even numbers: \",\",\".join(map(str,even_numbers)))    \n",
    "print(\"Number of odd numbers :\", \",\".join(map(str, odd_numbers)))\n",
    "    "
   ]
  },
  {
   "cell_type": "markdown",
   "id": "0f8fce9c",
   "metadata": {},
   "source": [
    "# Task16\n",
    "Write a Python program that iterates the integers from 1 to 50. For multiples of three print \"Fizz\" instead of the number and for multiples of five print \"Buzz\". For numbers that are multiples of three and five, print \"FizzBuzz\"."
   ]
  },
  {
   "cell_type": "code",
   "execution_count": 101,
   "id": "5985952d",
   "metadata": {},
   "outputs": [
    {
     "name": "stdout",
     "output_type": "stream",
     "text": [
      "FizzBuzz\n",
      "1\n",
      "2\n",
      "Fizz\n",
      "4\n",
      "Buzz\n",
      "Fizz\n",
      "7\n",
      "8\n",
      "Fizz\n",
      "Buzz\n",
      "11\n",
      "Fizz\n",
      "13\n",
      "14\n",
      "FizzBuzz\n",
      "16\n",
      "17\n",
      "Fizz\n",
      "19\n",
      "Buzz\n",
      "Fizz\n",
      "22\n",
      "23\n",
      "Fizz\n",
      "Buzz\n",
      "26\n",
      "Fizz\n",
      "28\n",
      "29\n",
      "FizzBuzz\n",
      "31\n",
      "32\n",
      "Fizz\n",
      "34\n",
      "Buzz\n",
      "Fizz\n",
      "37\n",
      "38\n",
      "Fizz\n",
      "Buzz\n",
      "41\n",
      "Fizz\n",
      "43\n",
      "44\n",
      "FizzBuzz\n",
      "46\n",
      "47\n",
      "Fizz\n",
      "49\n",
      "Buzz\n"
     ]
    }
   ],
   "source": [
    "for fizzbuzz in range(51):\n",
    "    if fizzbuzz %3 ==0 and fizzbuzz%5 ==0:\n",
    "        print(\"FizzBuzz\")\n",
    "        continue\n",
    "    elif fizzbuzz%3 ==0:\n",
    "        print(\"Fizz\")\n",
    "        continue\n",
    "    elif fizzbuzz%5 ==0:\n",
    "        print(\"Buzz\")\n",
    "        continue\n",
    "    print(fizzbuzz)"
   ]
  },
  {
   "cell_type": "markdown",
   "id": "504dee61",
   "metadata": {},
   "source": [
    "# Task17\n",
    "After you have finished the second session, can you explain briefly what information was learned and also what information you learned through the search?"
   ]
  },
  {
   "cell_type": "code",
   "execution_count": null,
   "id": "4711a851",
   "metadata": {},
   "outputs": [],
   "source": [
    "I learned about Arthimatic operation, comparison,logical (and,or,not), if condition, list(how to add or remove ) m tuples and set with their functions"
   ]
  }
 ],
 "metadata": {
  "kernelspec": {
   "display_name": "Python 3 (ipykernel)",
   "language": "python",
   "name": "python3"
  },
  "language_info": {
   "codemirror_mode": {
    "name": "ipython",
    "version": 3
   },
   "file_extension": ".py",
   "mimetype": "text/x-python",
   "name": "python",
   "nbconvert_exporter": "python",
   "pygments_lexer": "ipython3",
   "version": "3.11.7"
  }
 },
 "nbformat": 4,
 "nbformat_minor": 5
}
