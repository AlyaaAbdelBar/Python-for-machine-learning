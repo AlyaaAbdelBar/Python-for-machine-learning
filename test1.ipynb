{
 "cells": [
  {
   "cell_type": "markdown",
   "metadata": {
    "id": "7rMJIubZGObP"
   },
   "source": [
    "#### Multiply 10 with 5, and print the result.\n",
    "\n"
   ]
  },
  {
   "cell_type": "code",
   "execution_count": 1,
   "metadata": {},
   "outputs": [
    {
     "name": "stdout",
     "output_type": "stream",
     "text": [
      "50\n"
     ]
    }
   ],
   "source": [
    "x=10*5\n",
    "print(x)"
   ]
  },
  {
   "cell_type": "markdown",
   "metadata": {
    "id": "Mucrs9f5GYw3"
   },
   "source": [
    "### Divide 10 by 2, and print the result.\n",
    "\n"
   ]
  },
  {
   "cell_type": "code",
   "execution_count": 2,
   "metadata": {},
   "outputs": [
    {
     "name": "stdout",
     "output_type": "stream",
     "text": [
      "5.0\n"
     ]
    }
   ],
   "source": [
    "a=10/2\n",
    "print(a)\n"
   ]
  },
  {
   "cell_type": "markdown",
   "metadata": {
    "id": "GhvrFFPxGkLF"
   },
   "source": [
    "### Use the correct membership operator to check if \"apple\" is present in the fruits object.\n",
    "\n"
   ]
  },
  {
   "cell_type": "code",
   "execution_count": 2,
   "metadata": {},
   "outputs": [
    {
     "name": "stdout",
     "output_type": "stream",
     "text": [
      "Yes, apple is a fruit!\n"
     ]
    }
   ],
   "source": [
    "fruits = ['apple', 'cherry', 'bannana', 'watermelon']\n",
    "\n",
    "if \"apple\" in fruits :\n",
    "    print(\"Yes, apple is a fruit!\")"
   ]
  },
  {
   "cell_type": "code",
   "execution_count": null,
   "metadata": {},
   "outputs": [],
   "source": []
  },
  {
   "cell_type": "markdown",
   "metadata": {
    "id": "71TfNEQxGuNw"
   },
   "source": [
    "### Use the correct comparison operator to check if 5 is `not equal` to 10.\n",
    "\n"
   ]
  },
  {
   "cell_type": "code",
   "execution_count": null,
   "metadata": {},
   "outputs": [],
   "source": [
    "5 != 10"
   ]
  },
  {
   "cell_type": "markdown",
   "metadata": {
    "id": "_cqga3VjG9jJ"
   },
   "source": [
    "### Use the correct logical operator to check if at least one of two statements is `True`.\n",
    "\n"
   ]
  },
  {
   "cell_type": "code",
   "execution_count": null,
   "metadata": {},
   "outputs": [],
   "source": [
    "or "
   ]
  },
  {
   "cell_type": "markdown",
   "metadata": {
    "id": "gvFm9RC4H2BJ"
   },
   "source": [
    "### Print the second item in the fruits list.\n",
    "\n"
   ]
  },
  {
   "cell_type": "code",
   "execution_count": 5,
   "metadata": {},
   "outputs": [
    {
     "name": "stdout",
     "output_type": "stream",
     "text": [
      "cherry\n"
     ]
    }
   ],
   "source": [
    "fruits = ['apple', 'cherry', 'bannana', 'watermelon']\n",
    "print(fruits[1])"
   ]
  },
  {
   "cell_type": "markdown",
   "metadata": {
    "id": "_o7i99HGICNC"
   },
   "source": [
    "### Change the value from \"apple\" to \"kiwi\", in the fruits list.\n",
    "\n"
   ]
  },
  {
   "cell_type": "code",
   "execution_count": 7,
   "metadata": {},
   "outputs": [
    {
     "name": "stdout",
     "output_type": "stream",
     "text": [
      "['kiwi', 'cherry', 'bannana', 'watermelon']\n"
     ]
    }
   ],
   "source": [
    "fruits[0]=\"kiwi\"\n",
    "print(fruits)"
   ]
  },
  {
   "cell_type": "markdown",
   "metadata": {
    "id": "Wxi383HNILra"
   },
   "source": [
    "### Use the append method to add \"orange\" to the fruits list.\n",
    "\n"
   ]
  },
  {
   "cell_type": "code",
   "execution_count": null,
   "metadata": {},
   "outputs": [],
   "source": [
    "fruits.append(\"orange\")"
   ]
  },
  {
   "cell_type": "markdown",
   "metadata": {
    "id": "z6tv8q6zIUjZ"
   },
   "source": [
    "### Use the insert method to add \"lemon\" as the second item in the fruits list.\n",
    "\n"
   ]
  },
  {
   "cell_type": "code",
   "execution_count": 9,
   "metadata": {},
   "outputs": [
    {
     "name": "stdout",
     "output_type": "stream",
     "text": [
      "['apple', 'lemon', 'cherry', 'bannana', 'watermelon']\n"
     ]
    }
   ],
   "source": [
    "fruits = ['apple', 'cherry', 'bannana', 'watermelon']\n",
    "fruits.insert(1,\"lemon\")\n",
    "print(fruits)"
   ]
  },
  {
   "cell_type": "markdown",
   "metadata": {
    "id": "CsyceyyBIiSw"
   },
   "source": [
    "### Use the remove method to remove `\"banana\"` from the fruits list.\n",
    "\n"
   ]
  },
  {
   "cell_type": "code",
   "execution_count": 15,
   "metadata": {},
   "outputs": [
    {
     "name": "stdout",
     "output_type": "stream",
     "text": [
      "['apple', 'lemon', 'cherry', 'watermelon']\n"
     ]
    }
   ],
   "source": [
    "fruits= ['apple', 'lemon', 'cherry', 'bannana', 'watermelon']\n",
    "fruits.remove('bannana')\n",
    "print(fruits)"
   ]
  },
  {
   "cell_type": "markdown",
   "metadata": {
    "id": "0fbTHlYrIrwY"
   },
   "source": [
    "### Use negative indexing to print the last item in the list.\n",
    "\n"
   ]
  },
  {
   "cell_type": "code",
   "execution_count": 16,
   "metadata": {},
   "outputs": [
    {
     "name": "stdout",
     "output_type": "stream",
     "text": [
      "watermelon\n"
     ]
    }
   ],
   "source": [
    "print(fruits[-1])"
   ]
  },
  {
   "cell_type": "markdown",
   "metadata": {
    "id": "rR3ORmMVI55Z"
   },
   "source": [
    "### Use a range of indexes to print the third, fourth, and fifth item in the list.\n",
    "\n"
   ]
  },
  {
   "cell_type": "code",
   "execution_count": 21,
   "metadata": {},
   "outputs": [
    {
     "name": "stdout",
     "output_type": "stream",
     "text": [
      "['cherry', 'bannana', 'watermelon']\n"
     ]
    }
   ],
   "source": [
    "fruits= ['apple', 'lemon', 'cherry', 'bannana', 'watermelon']\n",
    "print(fruits[2:5:1])"
   ]
  },
  {
   "cell_type": "markdown",
   "metadata": {
    "id": "tc0ZAGQ2JfM9"
   },
   "source": [
    "### Use the correct syntax to print the number of items in the list.\n",
    "\n"
   ]
  },
  {
   "cell_type": "code",
   "execution_count": 22,
   "metadata": {},
   "outputs": [
    {
     "data": {
      "text/plain": [
       "5"
      ]
     },
     "execution_count": 22,
     "metadata": {},
     "output_type": "execute_result"
    }
   ],
   "source": [
    "len(fruits)"
   ]
  },
  {
   "cell_type": "markdown",
   "metadata": {
    "id": "feYJq0vYKe1S"
   },
   "source": [
    "### Write a Python program to print all even numbers from a given list of numbers in the same order and stop printing any after 237 in the sequence."
   ]
  },
  {
   "cell_type": "markdown",
   "metadata": {
    "id": "ec1qLM7DKnea"
   },
   "source": [
    "#### numbers = [    \n",
    "    386, 462, 47, 418, 907, 344, 236, 375, 823, 566, 597, 978, 328, 615, 953, 345,\n",
    "    399, 162, 758, 219, 918, 237, 412, 566, 826, 248, 866, 950, 626, 949, 687, 217,\n",
    "    815, 67, 104, 58, 512, 24, 892, 894, 767, 553, 81, 379, 843, 831, 445, 742, 717,\n",
    "    958,743, 527\n",
    "    ]"
   ]
  },
  {
   "cell_type": "code",
   "execution_count": 26,
   "metadata": {},
   "outputs": [
    {
     "name": "stdout",
     "output_type": "stream",
     "text": [
      "386\n",
      "462\n",
      "418\n",
      "344\n",
      "236\n",
      "566\n",
      "978\n",
      "328\n",
      "162\n",
      "758\n",
      "918\n",
      "237\n"
     ]
    }
   ],
   "source": [
    "numbers = [\n",
    "386, 462, 47, 418, 907, 344, 236, 375, 823, 566, 597, 978, 328, 615, 953, 345,\n",
    "399, 162, 758, 219, 918, 237, 412, 566, 826, 248, 866, 950, 626, 949, 687, 217,\n",
    "815, 67, 104, 58, 512, 24, 892, 894, 767, 553, 81, 379, 843, 831, 445, 742, 717,\n",
    "958,743, 527\n",
    "]\n",
    "\n",
    "for x in numbers:\n",
    "    if x==237 :\n",
    "        print(x)\n",
    "        break\n",
    "    elif x%2 == 0:\n",
    "        print(x)"
   ]
  },
  {
   "cell_type": "code",
   "execution_count": null,
   "metadata": {},
   "outputs": [],
   "source": []
  },
  {
   "cell_type": "markdown",
   "metadata": {
    "id": "FX6mi5tqLb5J"
   },
   "source": [
    "### Write a Python program that will accept the base and height of a triangle and compute its area.\n",
    "\n"
   ]
  },
  {
   "cell_type": "markdown",
   "metadata": {
    "id": "mt1FKNPYLN0I"
   },
   "source": [
    "<img src=\"https://www.w3resource.com/w3r_images/python-area-triangle-basic-exercise-30.png\" alt=\"Girl in a jacket\" width=\"500\" height=\"600\">\n"
   ]
  },
  {
   "cell_type": "code",
   "execution_count": 23,
   "metadata": {},
   "outputs": [
    {
     "name": "stdin",
     "output_type": "stream",
     "text": [
      "Enter base of triangle:  15\n",
      "Enter height of triangle:  10\n"
     ]
    },
    {
     "name": "stdout",
     "output_type": "stream",
     "text": [
      "area= 75.0\n"
     ]
    }
   ],
   "source": [
    "base=int(input(\"Enter base of triangle: \"))\n",
    "height=int(input(\"Enter height of triangle: \"))\n",
    "area=0.5*(base*height)\n",
    "print(\"area=\",area)"
   ]
  },
  {
   "cell_type": "code",
   "execution_count": null,
   "metadata": {},
   "outputs": [],
   "source": []
  },
  {
   "cell_type": "markdown",
   "metadata": {
    "id": "tP7gY2ZCPxnU"
   },
   "source": [
    "### Sort three integers without using conditional statements\n",
    "\n"
   ]
  },
  {
   "cell_type": "markdown",
   "metadata": {
    "id": "Xwy7VRdJPtxN"
   },
   "source": [
    "<img src=\"https://www.w3resource.com/w3r_images/python-basic-image-exercise-69.png\" alt=\"Girl in a jacket\" width=\"500\" height=\"600\">\n"
   ]
  },
  {
   "cell_type": "code",
   "execution_count": 27,
   "metadata": {},
   "outputs": [
    {
     "name": "stdin",
     "output_type": "stream",
     "text": [
      "Enter first num=  8\n",
      "Enter second num=  7\n",
      "Enter third num=  3\n"
     ]
    },
    {
     "name": "stdout",
     "output_type": "stream",
     "text": [
      "Number in sorted ordder : 3 7 8\n"
     ]
    }
   ],
   "source": [
    "a=int(input(\"Enter first num= \"))\n",
    "b=int(input(\"Enter second num= \"))\n",
    "c=int(input(\"Enter third num= \"))\n",
    "\n",
    "x= min(a,b,c)\n",
    "y=max(a,b,c)\n",
    "z=(a+b+c)-y-x\n",
    "print(\"Number in sorted ordder :\", x, z, y)"
   ]
  },
  {
   "cell_type": "code",
   "execution_count": null,
   "metadata": {},
   "outputs": [],
   "source": []
  },
  {
   "cell_type": "markdown",
   "metadata": {
    "id": "nn6opiI8Uj1-"
   },
   "source": [
    "#### Write a Python function that takes a sequence of numbers and determines whether all the numbers are different from each other."
   ]
  },
  {
   "cell_type": "markdown",
   "metadata": {
    "id": "9LQTVtiGVJ9r"
   },
   "source": [
    "<img src=\"https://www.w3resource.com/w3r_images/python-basic-1-image-exercise-1.png\" alt=\"Girl in a jacket\" width=\"500\" height=\"600\">\n"
   ]
  },
  {
   "cell_type": "code",
   "execution_count": 31,
   "metadata": {},
   "outputs": [
    {
     "name": "stdout",
     "output_type": "stream",
     "text": [
      "False\n"
     ]
    }
   ],
   "source": [
    "data= [2,4,5,5,7,9]\n",
    "if len (data) == len (set(data)):\n",
    "    print(\"True\")\n",
    "else:\n",
    "    print(\"False\")"
   ]
  },
  {
   "cell_type": "code",
   "execution_count": null,
   "metadata": {},
   "outputs": [],
   "source": []
  },
  {
   "cell_type": "code",
   "execution_count": null,
   "metadata": {},
   "outputs": [],
   "source": []
  },
  {
   "cell_type": "markdown",
   "metadata": {
    "id": "HHNeCzCWa3lx"
   },
   "source": [
    "#### Dictionary"
   ]
  },
  {
   "cell_type": "code",
   "execution_count": 33,
   "metadata": {
    "colab": {
     "base_uri": "https://localhost:8080/"
    },
    "id": "WOrfDlTla-Lf",
    "outputId": "76889e97-c736-490b-d105-61ee74cfb137"
   },
   "outputs": [
    {
     "data": {
      "text/plain": [
       "dict_keys(['a', 'b', 'c'])"
      ]
     },
     "execution_count": 33,
     "metadata": {},
     "output_type": "execute_result"
    }
   ],
   "source": [
    "#Return all keys \n",
    "dict1 = {'a': 100, 'b': 200, 'c': 300}\n",
    "dict1.keys()"
   ]
  },
  {
   "cell_type": "code",
   "execution_count": 40,
   "metadata": {
    "colab": {
     "base_uri": "https://localhost:8080/"
    },
    "id": "DAdr9gOQbDng",
    "outputId": "578f6680-f1e7-49cb-eaa0-bec2445dde2d"
   },
   "outputs": [
    {
     "data": {
      "text/plain": [
       "dict_values([200, 300])"
      ]
     },
     "execution_count": 40,
     "metadata": {},
     "output_type": "execute_result"
    }
   ],
   "source": [
    "#Return all Values\n",
    "dict1 = {'a': 100, 'a': 200, 'c': 300}\n",
    "dict1.values()"
   ]
  },
  {
   "cell_type": "code",
   "execution_count": 41,
   "metadata": {
    "colab": {
     "base_uri": "https://localhost:8080/"
    },
    "id": "XzjcaUpqbMGc",
    "outputId": "f18592a5-dee7-41ae-8f01-621dc6a44b0f"
   },
   "outputs": [
    {
     "data": {
      "text/plain": [
       "dict_items([('a', 200), ('c', 300)])"
      ]
     },
     "execution_count": 41,
     "metadata": {},
     "output_type": "execute_result"
    }
   ],
   "source": [
    "#Return a list of tuple\n",
    "dict1 = {'a': 100, 'a': 200, 'c': 300}\n",
    "dict1.items()"
   ]
  },
  {
   "cell_type": "markdown",
   "metadata": {
    "id": "6c1ld1XoZ_RK"
   },
   "source": [
    "```\n",
    "Input : {‘a’: 100, ‘b’:200, ‘c’:300}\n",
    "```\n",
    "Output : 600\n",
    "```\n",
    "# Input : {‘x’: 25, ‘y’:18, ‘z’:45}\n",
    "\n",
    "```\n",
    "Output : 88"
   ]
  },
  {
   "cell_type": "code",
   "execution_count": 49,
   "metadata": {},
   "outputs": [
    {
     "name": "stdout",
     "output_type": "stream",
     "text": [
      "Summation= 600\n"
     ]
    }
   ],
   "source": [
    "d={'a':100, 'b':200 , 'c':300}\n",
    "list= []\n",
    "for i in d:\n",
    "    list.append(d[i])\n",
    "sum_d=sum(list)\n",
    "print(\"Summation=\", sum_d)"
   ]
  },
  {
   "cell_type": "code",
   "execution_count": 50,
   "metadata": {},
   "outputs": [
    {
     "name": "stdout",
     "output_type": "stream",
     "text": [
      "Summation= 88\n"
     ]
    }
   ],
   "source": [
    "inp= {'x': 25, 'y':18, 'z':45}\n",
    "list_2= []\n",
    "for i in inp:\n",
    "    list_2.append(inp[i])\n",
    "sum_inp=sum(list_2)\n",
    "print(\"Summation=\", sum_inp)"
   ]
  },
  {
   "cell_type": "markdown",
   "metadata": {
    "id": "3GT4F80UOaTa"
   },
   "source": [
    "### Calculate the sum of all numbers from 0 to a given number"
   ]
  },
  {
   "cell_type": "code",
   "execution_count": 32,
   "metadata": {},
   "outputs": [
    {
     "name": "stdin",
     "output_type": "stream",
     "text": [
      "enter a number:  5\n"
     ]
    },
    {
     "name": "stdout",
     "output_type": "stream",
     "text": [
      "15\n"
     ]
    }
   ],
   "source": [
    "x = int(input('enter a number: '))\n",
    "print(int(x*(x+1)/2))"
   ]
  },
  {
   "cell_type": "markdown",
   "metadata": {
    "id": "1tHglDPNUT5J"
   },
   "source": [
    "### Find the factorial of a given number using while loop"
   ]
  },
  {
   "cell_type": "markdown",
   "metadata": {
    "id": "QT1487BDVCIU"
   },
   "source": [
    "#### For example: calculate the factorial of 5\n",
    "\n"
   ]
  },
  {
   "cell_type": "markdown",
   "metadata": {
    "id": "FCTJ9pt_VE-y"
   },
   "source": [
    "\n",
    "\n",
    "```\n",
    "# 5! = 5 × 4 × 3 × 2 × 1 = 120\n",
    "\n",
    "```\n",
    "\n"
   ]
  },
  {
   "cell_type": "code",
   "execution_count": 53,
   "metadata": {},
   "outputs": [
    {
     "name": "stdin",
     "output_type": "stream",
     "text": [
      "Enter your number:  4\n"
     ]
    },
    {
     "name": "stdout",
     "output_type": "stream",
     "text": [
      "FACTORIAL OF num 4 =  24\n"
     ]
    }
   ],
   "source": [
    "\n",
    "num=int(input(\"Enter your number: \"))\n",
    "fact=1\n",
    "i=1\n",
    "while i<= num:\n",
    "\n",
    "    fact=fact*i\n",
    "    i+=1\n",
    "print(f\"FACTORIAL OF num {num} = \", fact)\n",
    "    "
   ]
  },
  {
   "cell_type": "markdown",
   "metadata": {
    "id": "q_f9IMbDYkLm"
   },
   "source": [
    "### Use a loop to display elements from a given list present at odd index positions"
   ]
  },
  {
   "cell_type": "markdown",
   "metadata": {
    "id": "Q9gHbx7XZBFc"
   },
   "source": [
    "```\n",
    "my_list = [10, 20, 30, 40, 50, 60, 70, 80, 90, 100]\n",
    "Expected output:\n",
    "20 40 60 80 100\n",
    "```\n",
    "\n"
   ]
  },
  {
   "cell_type": "code",
   "execution_count": 119,
   "metadata": {},
   "outputs": [
    {
     "name": "stdout",
     "output_type": "stream",
     "text": [
      "20 40 60 80 100 "
     ]
    }
   ],
   "source": [
    "my_list = [10,20,30,40,50,60,70,80,90,100]\n",
    "for i in range(1,len(my_list),2):\n",
    "    print(my_list[i],end=\" \")\n",
    "    "
   ]
  },
  {
   "cell_type": "code",
   "execution_count": null,
   "metadata": {},
   "outputs": [],
   "source": []
  },
  {
   "cell_type": "markdown",
   "metadata": {
    "id": "NRZ3LLaUmtQu"
   },
   "source": [
    "### len of str in list\n",
    "### ['apple', 'orange', 'cat']"
   ]
  },
  {
   "cell_type": "code",
   "execution_count": 54,
   "metadata": {
    "colab": {
     "base_uri": "https://localhost:8080/"
    },
    "id": "bIhFj4Q8ZlrW",
    "outputId": "c7a2f25b-b6c4-4289-a9c3-91b8504ed81a"
   },
   "outputs": [
    {
     "name": "stdout",
     "output_type": "stream",
     "text": [
      "3\n"
     ]
    }
   ],
   "source": [
    "l = ['apple', 'orange', 'cat']\n",
    "print(len(l))"
   ]
  },
  {
   "cell_type": "markdown",
   "metadata": {
    "id": "V05BjYlMeMjZ"
   },
   "source": [
    "### program to count number of vowels using sets in given string\n"
   ]
  },
  {
   "cell_type": "code",
   "execution_count": 77,
   "metadata": {},
   "outputs": [
    {
     "name": "stdin",
     "output_type": "stream",
     "text": [
      "enter a word:  cvxa\n"
     ]
    },
    {
     "name": "stdout",
     "output_type": "stream",
     "text": [
      "Number of vowls= 1\n"
     ]
    }
   ],
   "source": [
    "vowels = ['a','e','i','o','u']\n",
    "string = input('enter a word: ')\n",
    "j=0\n",
    "for alp in string :\n",
    "    if alp in vowels: \n",
    "        j=j+1   \n",
    "print (\"Number of vowls=\", j)\n"
   ]
  },
  {
   "cell_type": "markdown",
   "metadata": {
    "id": "rdIZGB8kgcMQ"
   },
   "source": [
    "\n",
    "### Write a Python program to add an item to a tuple."
   ]
  },
  {
   "cell_type": "code",
   "execution_count": 85,
   "metadata": {},
   "outputs": [
    {
     "name": "stdout",
     "output_type": "stream",
     "text": [
      "(1, 3, 5, 10)\n"
     ]
    }
   ],
   "source": [
    "tuple1 = (1,3,5)\n",
    "item = 10\n",
    "\n",
    "tuple1= tuple1+(item ,)\n",
    "print(tuple1)"
   ]
  },
  {
   "cell_type": "markdown",
   "metadata": {
    "id": "NpZ-cEhZkSlO"
   },
   "source": [
    "### Write a Python program to multiply all the items in a list."
   ]
  },
  {
   "cell_type": "code",
   "execution_count": 86,
   "metadata": {},
   "outputs": [
    {
     "name": "stdout",
     "output_type": "stream",
     "text": [
      "30\n"
     ]
    }
   ],
   "source": [
    "#lst = [1, 3, 5, 2]\n",
    "\n",
    "def mul_list(lst):\n",
    "    t=1\n",
    "    for x in lst :\n",
    "        t *= x\n",
    "    return t\n",
    "\n",
    "print(mul_list([1,3,5,2]))"
   ]
  },
  {
   "cell_type": "markdown",
   "metadata": {
    "id": "2fwBrTI1k1XG"
   },
   "source": [
    "### Write a Python program to get the smallest number from a list."
   ]
  },
  {
   "cell_type": "code",
   "execution_count": 87,
   "metadata": {},
   "outputs": [
    {
     "name": "stdout",
     "output_type": "stream",
     "text": [
      "Smallest number is =  1\n"
     ]
    }
   ],
   "source": [
    "lst = [1, 3, 5,1,1000, 2]\n",
    "lst.sort()\n",
    "print(\"Smallest number is = \", lst[0])"
   ]
  },
  {
   "cell_type": "markdown",
   "metadata": {
    "id": "-k8pdXDek5IW"
   },
   "source": [
    "### Write a Python program to get the largest number from a list."
   ]
  },
  {
   "cell_type": "code",
   "execution_count": 89,
   "metadata": {},
   "outputs": [
    {
     "name": "stdout",
     "output_type": "stream",
     "text": [
      "Largest number is=  1000\n"
     ]
    }
   ],
   "source": [
    "lst = [1, 3, 5,1,1000, 2]\n",
    "lst.sort()\n",
    "print(\"Largest number is= \", lst[-1])"
   ]
  },
  {
   "cell_type": "markdown",
   "metadata": {
    "id": "48pndthSlHSg"
   },
   "source": [
    "### Write a Python program to remove item(s) from a given set.\n",
    "\n",
    "### s = set([0, 1, 3, 4, 5])"
   ]
  },
  {
   "cell_type": "code",
   "execution_count": 90,
   "metadata": {},
   "outputs": [
    {
     "name": "stdout",
     "output_type": "stream",
     "text": [
      "original set {0, 1, 3, 4, 5}\n",
      "Set after removing the first element from  {1, 3, 4, 5}\n"
     ]
    }
   ],
   "source": [
    "s = set([0, 1, 3, 4, 5])\n",
    "print(\"original set\", s)\n",
    "s.pop()\n",
    "print(\"Set after removing the first element from \", s)"
   ]
  },
  {
   "cell_type": "markdown",
   "metadata": {
    "id": "J5nHkSQ4lmlq"
   },
   "source": [
    "### Write a Python program to find the maximum and minimum values in a set."
   ]
  },
  {
   "cell_type": "code",
   "execution_count": 91,
   "metadata": {},
   "outputs": [
    {
     "name": "stdout",
     "output_type": "stream",
     "text": [
      "The max number in list 8\n",
      "The min number in list 1\n"
     ]
    }
   ],
   "source": [
    "set1 = {1,8,4,3,2,6}\n",
    "print(\"The max number in list\", max(set1))\n",
    "print(\"The min number in list\", min(set1))"
   ]
  },
  {
   "cell_type": "markdown",
   "metadata": {
    "id": "ZDEKN9ulnLZO"
   },
   "source": [
    "### Write a Python program to convert a tuple to a dictionary.\n",
    "### dict1 = {}\n",
    "### tuple1 = (\"name\", \"age\", \"city\",\"city\")\n",
    "\n",
    "```\n",
    "# enumerate()\n",
    "```\n",
    "\n"
   ]
  },
  {
   "cell_type": "markdown",
   "metadata": {},
   "source": [
    "enumerate() returns a value and its index in the itterable (value,index)"
   ]
  },
  {
   "cell_type": "code",
   "execution_count": 117,
   "metadata": {},
   "outputs": [
    {
     "name": "stdout",
     "output_type": "stream",
     "text": [
      "{'name': 1, 'age': 2, 'city': 3}\n",
      "dict_values([1, 2, 3])\n",
      "1\n",
      "2\n",
      "3\n"
     ]
    }
   ],
   "source": [
    "dict1={}\n",
    "tuple_1 = ('name','age','city','city')    #output {'name': 0, 'age': 1, 'city': 3}\n",
    "# values = (1,2,3,4)\n",
    "dict1=dict.fromkeys(tuple_1,1)\n",
    "#print(str(dict1))\n",
    "dict1['age']=2\n",
    "dict1['city']=3\n",
    "#dict1['city']=4\n",
    "print(dict1)\n",
    "print(dict1.values())\n",
    "for index, value in enumerate(dict1):\n",
    "    #print(index, value, dict1[value])\n",
    "    print(dict1[value])\n",
    "    \n"
   ]
  },
  {
   "cell_type": "code",
   "execution_count": null,
   "metadata": {},
   "outputs": [],
   "source": []
  }
 ],
 "metadata": {
  "colab": {
   "provenance": []
  },
  "kernelspec": {
   "display_name": "Python 3 (ipykernel)",
   "language": "python",
   "name": "python3"
  },
  "language_info": {
   "codemirror_mode": {
    "name": "ipython",
    "version": 3
   },
   "file_extension": ".py",
   "mimetype": "text/x-python",
   "name": "python",
   "nbconvert_exporter": "python",
   "pygments_lexer": "ipython3",
   "version": "3.11.7"
  }
 },
 "nbformat": 4,
 "nbformat_minor": 4
}
